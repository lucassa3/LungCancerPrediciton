{
 "cells": [
  {
   "cell_type": "markdown",
   "metadata": {},
   "source": [
    "Creating a test dataset with some very easy to predict images."
   ]
  },
  {
   "cell_type": "code",
   "execution_count": 4,
   "metadata": {
    "collapsed": true
   },
   "outputs": [],
   "source": [
    "import matplotlib.pyplot as plt\n",
    "import random\n",
    "import numpy as np"
   ]
  },
  {
   "cell_type": "code",
   "execution_count": 7,
   "metadata": {
    "collapsed": true
   },
   "outputs": [],
   "source": [
    "working_path = \"../outs/\""
   ]
  },
  {
   "cell_type": "code",
   "execution_count": 8,
   "metadata": {
    "collapsed": true
   },
   "outputs": [],
   "source": [
    "def make_blob_mask(width, height, x, y, s, t):\n",
    "    xx = np.arange(width)\n",
    "    yy = np.arange(height)\n",
    "    xxx, yyy = np.meshgrid(xx, yy)\n",
    "    \n",
    "    z = np.exp(-0.5*((xxx-x)**2 + (yyy-y)**2)/(s**2))\n",
    "    \n",
    "    m = (z>t)\n",
    "    \n",
    "    return z, m"
   ]
  },
  {
   "cell_type": "code",
   "execution_count": 9,
   "metadata": {},
   "outputs": [],
   "source": [
    "num_images = 200\n",
    "\n",
    "\n",
    "final_images = np.ndarray([num_images,1,512,512],dtype=np.float32)\n",
    "final_masks = np.ndarray([num_images,1,512,512],dtype=np.float32)\n",
    "\n",
    "for i in range(num_images):\n",
    "    img_test, img_mask = make_blob_mask(512,512,random.randrange(10,502),random.randrange(10,502),10, 0.8)\n",
    "    \n",
    "    final_images[i,0] = img_test\n",
    "    final_masks[i,0] = img_mask\n",
    "    \n",
    "\n",
    "final_images.shape\n",
    "\n",
    "\n",
    "rand_i = np.random.choice(range(num_images),size=num_images,replace=False)\n",
    "test_i = int(0.2*num_images)\n",
    "np.save(working_path+\"fake_trainImages.npy\",final_images[rand_i[test_i:]])\n",
    "np.save(working_path+\"fake_trainMasks.npy\",final_masks[rand_i[test_i:]])\n",
    "np.save(working_path+\"fake_testImages.npy\",final_images[rand_i[:test_i]])\n",
    "np.save(working_path+\"fake_testMasks.npy\",final_masks[rand_i[:test_i]])"
   ]
  },
  {
   "cell_type": "code",
   "execution_count": null,
   "metadata": {
    "collapsed": true
   },
   "outputs": [],
   "source": []
  }
 ],
 "metadata": {
  "kernelspec": {
   "display_name": "Python 3",
   "language": "python",
   "name": "python3"
  },
  "language_info": {
   "codemirror_mode": {
    "name": "ipython",
    "version": 3
   },
   "file_extension": ".py",
   "mimetype": "text/x-python",
   "name": "python",
   "nbconvert_exporter": "python",
   "pygments_lexer": "ipython3",
   "version": "3.6.3"
  }
 },
 "nbformat": 4,
 "nbformat_minor": 2
}
